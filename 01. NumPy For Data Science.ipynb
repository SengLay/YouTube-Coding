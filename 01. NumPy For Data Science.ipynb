{
 "cells": [
  {
   "cell_type": "markdown",
   "id": "9d4622c3",
   "metadata": {},
   "source": [
    "# The Basics"
   ]
  },
  {
   "cell_type": "code",
   "execution_count": 1,
   "id": "df554a53",
   "metadata": {},
   "outputs": [],
   "source": [
    "import numpy as np"
   ]
  },
  {
   "cell_type": "code",
   "execution_count": 2,
   "id": "5ef2211d",
   "metadata": {},
   "outputs": [
    {
     "name": "stdout",
     "output_type": "stream",
     "text": [
      "[1 2 3]\n"
     ]
    }
   ],
   "source": [
    "a = np.array([1,2,3], dtype = 'int32')\n",
    "print(a)"
   ]
  },
  {
   "cell_type": "code",
   "execution_count": 3,
   "id": "f8d6bc3f",
   "metadata": {},
   "outputs": [
    {
     "name": "stdout",
     "output_type": "stream",
     "text": [
      "[[9. 8. 7.]\n",
      " [6. 5. 4.]]\n"
     ]
    }
   ],
   "source": [
    "b = np.array([[9.0,8.0,7.0],[6.0,5.0,4.0]])     # double [[...],[...]]\n",
    "print(b)"
   ]
  },
  {
   "cell_type": "code",
   "execution_count": 4,
   "id": "076b7565",
   "metadata": {},
   "outputs": [
    {
     "name": "stdout",
     "output_type": "stream",
     "text": [
      "Dimension of a =  1\n"
     ]
    }
   ],
   "source": [
    "# Get Dimension\n",
    "a.ndim\n",
    "print('Dimension of a = ', a.ndim)"
   ]
  },
  {
   "cell_type": "code",
   "execution_count": 5,
   "id": "8f88e2b5",
   "metadata": {},
   "outputs": [
    {
     "name": "stdout",
     "output_type": "stream",
     "text": [
      "Dimension of b =  2\n"
     ]
    }
   ],
   "source": [
    "b.ndim\n",
    "print('Dimension of b = ', b.ndim)"
   ]
  },
  {
   "cell_type": "code",
   "execution_count": 6,
   "id": "d62a1b23",
   "metadata": {},
   "outputs": [
    {
     "name": "stdout",
     "output_type": "stream",
     "text": [
      "Shape of a =  (3,)\n",
      "Shape of b =  (2, 3)\n"
     ]
    }
   ],
   "source": [
    "# Get Shape\n",
    "a.shape\n",
    "print('Shape of a = ', a.shape)\n",
    "b.shape\n",
    "print('Shape of b = ', b.shape)     # (2, 3): 2 for horizontal, 3 for vertical"
   ]
  },
  {
   "cell_type": "code",
   "execution_count": 7,
   "id": "8b1f0d68",
   "metadata": {},
   "outputs": [
    {
     "name": "stdout",
     "output_type": "stream",
     "text": [
      "Type of a is int32\n"
     ]
    }
   ],
   "source": [
    "# Get Type\n",
    "a.dtype\n",
    "print('Type of a is', a.dtype)"
   ]
  },
  {
   "cell_type": "code",
   "execution_count": 8,
   "id": "7c9614da",
   "metadata": {},
   "outputs": [
    {
     "name": "stdout",
     "output_type": "stream",
     "text": [
      "Type of b is float64\n"
     ]
    }
   ],
   "source": [
    "b.dtype\n",
    "print('Type of b is', b.dtype)"
   ]
  },
  {
   "cell_type": "code",
   "execution_count": 9,
   "id": "368738a4",
   "metadata": {},
   "outputs": [
    {
     "name": "stdout",
     "output_type": "stream",
     "text": [
      "Itemsize = 4\n"
     ]
    }
   ],
   "source": [
    "# Get Size\n",
    "a.itemsize\n",
    "print('Itemsize =', a.itemsize)"
   ]
  },
  {
   "cell_type": "code",
   "execution_count": 10,
   "id": "274a78fd",
   "metadata": {},
   "outputs": [
    {
     "name": "stdout",
     "output_type": "stream",
     "text": [
      "Size = 3\n"
     ]
    }
   ],
   "source": [
    "# Get Size\n",
    "a.size\n",
    "print('Size =', a.size)     # a.size refers to all array elements"
   ]
  },
  {
   "cell_type": "code",
   "execution_count": 11,
   "id": "cadb7904",
   "metadata": {},
   "outputs": [
    {
     "name": "stdout",
     "output_type": "stream",
     "text": [
      "Total Size of a = 12\n",
      "Total Size of b = 48\n"
     ]
    }
   ],
   "source": [
    "# Get Total Size\n",
    "a.nbytes\n",
    "print('Total Size of a =', a.nbytes)\n",
    "b.nbytes\n",
    "print('Total Size of b =', b.nbytes)      \n",
    "\n",
    "# Binary number of 1 is 1\n",
    "# 'int32' of '1' means that 00000000 00000000 00000000 00000001\n",
    "# Binary number of 2 is 10\n",
    "# 'int32' of '2' means that 00000000 00000000 00000000 00000010\n",
    "\n",
    "# Binary number 9.0\n",
    "# 'float64' of '9.0' means that 00000000 00000000 00000000 00000000 00000000 00000000 00000000 00001001\n"
   ]
  },
  {
   "cell_type": "markdown",
   "id": "62ee55d8",
   "metadata": {},
   "source": [
    "# Accessing / Changing Specific Elements, Rows, Columns, etc..."
   ]
  },
  {
   "cell_type": "code",
   "execution_count": 12,
   "id": "55f606ca",
   "metadata": {},
   "outputs": [
    {
     "name": "stdout",
     "output_type": "stream",
     "text": [
      "[[ 1  2  3  4  5  6  7]\n",
      " [ 8  9 10 11 12 13 14]]\n"
     ]
    }
   ],
   "source": [
    "m = np.array([[1,2,3,4,5,6,7], [8,9,10,11,12,13,14]])\n",
    "print(m)"
   ]
  },
  {
   "cell_type": "code",
   "execution_count": 13,
   "id": "074834ce",
   "metadata": {},
   "outputs": [
    {
     "name": "stdout",
     "output_type": "stream",
     "text": [
      "13\n"
     ]
    }
   ],
   "source": [
    "# Get a specific element [r, c]\n",
    "m[1, 5]\n",
    "print(m[1, 5])"
   ]
  },
  {
   "cell_type": "code",
   "execution_count": 14,
   "id": "ed8319d7",
   "metadata": {},
   "outputs": [
    {
     "name": "stdout",
     "output_type": "stream",
     "text": [
      "[1 2 3 4 5 6 7]\n"
     ]
    }
   ],
   "source": [
    "# Geta Specific row\n",
    "m[0, :]\n",
    "print(m[0, :])"
   ]
  },
  {
   "cell_type": "code",
   "execution_count": 15,
   "id": "6d95e1e4",
   "metadata": {},
   "outputs": [
    {
     "name": "stdout",
     "output_type": "stream",
     "text": [
      "[ 8  9 10 11 12 13 14]\n"
     ]
    }
   ],
   "source": [
    "m[1, :]\n",
    "print(m[1, :])"
   ]
  },
  {
   "cell_type": "code",
   "execution_count": 16,
   "id": "61d55ee9",
   "metadata": {},
   "outputs": [
    {
     "name": "stdout",
     "output_type": "stream",
     "text": [
      "[ 3 10]\n"
     ]
    }
   ],
   "source": [
    "# Get specific column\n",
    "m[:, 2]\n",
    "print(m[:, 2])"
   ]
  },
  {
   "cell_type": "code",
   "execution_count": 17,
   "id": "2b98db67",
   "metadata": {},
   "outputs": [
    {
     "name": "stdout",
     "output_type": "stream",
     "text": [
      "[1 8]\n"
     ]
    }
   ],
   "source": [
    "m[:, 0]\n",
    "print(m[:, 0])"
   ]
  },
  {
   "cell_type": "code",
   "execution_count": 18,
   "id": "4d5cf042",
   "metadata": {},
   "outputs": [
    {
     "name": "stdout",
     "output_type": "stream",
     "text": [
      "[ 7 14]\n"
     ]
    }
   ],
   "source": [
    "m[:, 6]\n",
    "print(m[:, 6])"
   ]
  },
  {
   "cell_type": "code",
   "execution_count": 19,
   "id": "e46a3828",
   "metadata": {},
   "outputs": [
    {
     "name": "stdout",
     "output_type": "stream",
     "text": [
      "[2 4 6]\n"
     ]
    }
   ],
   "source": [
    "# Getting a little more fancy [rows, startindex: endindex: stepsize]\n",
    "m[0, 1:-1:2]\n",
    "print(m[0, 1:-1:2])"
   ]
  },
  {
   "cell_type": "code",
   "execution_count": 38,
   "id": "593184f4",
   "metadata": {},
   "outputs": [
    {
     "name": "stdout",
     "output_type": "stream",
     "text": [
      "[7 7 7]\n"
     ]
    }
   ],
   "source": [
    "m[0, 0:6:2]\n",
    "print(m[0, 0:6:2])"
   ]
  },
  {
   "cell_type": "code",
   "execution_count": 39,
   "id": "c8b8d730",
   "metadata": {},
   "outputs": [
    {
     "name": "stdout",
     "output_type": "stream",
     "text": [
      "[7 7 7 7 7 7 7]\n"
     ]
    }
   ],
   "source": [
    "m[0, :]\n",
    "print(m[0, :])"
   ]
  },
  {
   "cell_type": "code",
   "execution_count": 40,
   "id": "6d5b623c",
   "metadata": {},
   "outputs": [
    {
     "name": "stdout",
     "output_type": "stream",
     "text": [
      "[[ 7  7  7  7  7  7  7]\n",
      " [ 8  8  8  8  8 20  8]]\n",
      "[[ 7  7  1  7  7  7  7]\n",
      " [ 8  8  2  8  8 20  8]]\n",
      "[[ 7  7  1  7  7 95  7]\n",
      " [ 8  8  2  8  8 96  8]]\n",
      "[[ 7  7  7  7  7  7  7]\n",
      " [ 8  8  2  8  8 96  8]]\n",
      "[[7 7 7 7 7 7 7]\n",
      " [8 8 8 8 8 8 8]]\n"
     ]
    }
   ],
   "source": [
    "m[1,5] = 20\n",
    "print(m)\n",
    "m[:,2] = [1,2]     # Change array elements on 2-nd column\n",
    "print(m)\n",
    "m[:,5] = [95,96]     # Change array elements on 5-nd column, (always remember, count from index 0)\n",
    "print(m)\n",
    "m[0,:] = 7     # Change array elements on 0-th row\n",
    "print(m)\n",
    "m[1,:] = 8     # Change array elements on 1-st row\n",
    "print(m)"
   ]
  },
  {
   "cell_type": "markdown",
   "id": "f73a8840",
   "metadata": {},
   "source": [
    "# 3D Array Example"
   ]
  },
  {
   "cell_type": "code",
   "execution_count": 41,
   "id": "1b02029a",
   "metadata": {},
   "outputs": [
    {
     "name": "stdout",
     "output_type": "stream",
     "text": [
      "[[[1 2]\n",
      "  [3 4]]\n",
      "\n",
      " [[5 6]\n",
      "  [7 8]]]\n"
     ]
    }
   ],
   "source": [
    "n = np.array([[[1,2],[3,4]], [[5,6],[7,8]]])\n",
    "print(n)"
   ]
  },
  {
   "cell_type": "code",
   "execution_count": 42,
   "id": "23173661",
   "metadata": {},
   "outputs": [
    {
     "name": "stdout",
     "output_type": "stream",
     "text": [
      "4\n",
      "8\n",
      "2\n",
      "5\n"
     ]
    }
   ],
   "source": [
    "# Get specific element (work outside in)\n",
    "n[0,1,1]\n",
    "print(n[0,1,1])\n",
    "n[1,1,1]\n",
    "print(n[1,1,1])\n",
    "n[0,0,1]\n",
    "print(n[0,0,1])\n",
    "n[1,0,0]\n",
    "print(n[1,0,0])"
   ]
  },
  {
   "cell_type": "code",
   "execution_count": 46,
   "id": "e8a5b607",
   "metadata": {},
   "outputs": [
    {
     "name": "stdout",
     "output_type": "stream",
     "text": [
      "[[3 4]\n",
      " [7 8]]\n",
      "[[7 7]\n",
      " [8 8]]\n",
      "[[6 6]\n",
      " [5 5]]\n",
      "[[6 6]\n",
      " [6 6]]\n",
      "[[11 11]\n",
      " [12 12]]\n",
      "[[8 8]\n",
      " [8 8]]\n"
     ]
    }
   ],
   "source": [
    "# Replace\n",
    "n[:,1,:] = [[3,4],[7,8]]\n",
    "print(n[:,1,:])\n",
    "\n",
    "n[:,0,:] = [[7,7],[8,8]]\n",
    "print(n[:,0,:])\n",
    "\n",
    "n[:,0] = [[6,6],[5,5]]\n",
    "print(n[:,0])\n",
    "\n",
    "n[0,:] = [[6,6]]\n",
    "print(n[0,:])\n",
    "\n",
    "n[1,:] = [[11,11],[12,12]]\n",
    "print(n[1,:])\n",
    "\n",
    "n[1,:] = [[8,8]]\n",
    "print(n[1,:])"
   ]
  },
  {
   "cell_type": "markdown",
   "id": "3f025c51",
   "metadata": {},
   "source": [
    "# Initializing Different Types of Arrays"
   ]
  },
  {
   "cell_type": "code",
   "execution_count": 47,
   "id": "a00b3540",
   "metadata": {},
   "outputs": [
    {
     "name": "stdout",
     "output_type": "stream",
     "text": [
      "[[0. 0. 0.]\n",
      " [0. 0. 0.]]\n"
     ]
    }
   ],
   "source": [
    "# All zeros matrix\n",
    "p = np.zeros((2,3))\n",
    "print(p)"
   ]
  },
  {
   "cell_type": "code",
   "execution_count": 61,
   "id": "fac18bc0",
   "metadata": {},
   "outputs": [
    {
     "name": "stdout",
     "output_type": "stream",
     "text": [
      "[[1. 1.]\n",
      " [1. 1.]\n",
      " [1. 1.]\n",
      " [1. 1.]]\n",
      "\n",
      "\n",
      "[[[1 1]\n",
      "  [1 1]]\n",
      "\n",
      " [[1 1]\n",
      "  [1 1]]\n",
      "\n",
      " [[1 1]\n",
      "  [1 1]]\n",
      "\n",
      " [[1 1]\n",
      "  [1 1]]]\n",
      "\n",
      "\n",
      "[[[1. 1.]\n",
      "  [1. 1.]]\n",
      "\n",
      " [[1. 1.]\n",
      "  [1. 1.]]\n",
      "\n",
      " [[1. 1.]\n",
      "  [1. 1.]]]\n",
      "\n",
      "\n",
      "[[[1. 1. 1. 1.]\n",
      "  [1. 1. 1. 1.]\n",
      "  [1. 1. 1. 1.]]\n",
      "\n",
      " [[1. 1. 1. 1.]\n",
      "  [1. 1. 1. 1.]\n",
      "  [1. 1. 1. 1.]]\n",
      "\n",
      " [[1. 1. 1. 1.]\n",
      "  [1. 1. 1. 1.]\n",
      "  [1. 1. 1. 1.]]\n",
      "\n",
      " [[1. 1. 1. 1.]\n",
      "  [1. 1. 1. 1.]\n",
      "  [1. 1. 1. 1.]]\n",
      "\n",
      " [[1. 1. 1. 1.]\n",
      "  [1. 1. 1. 1.]\n",
      "  [1. 1. 1. 1.]]]\n"
     ]
    }
   ],
   "source": [
    "# All ones matrix\n",
    "# ((rows, columns))\n",
    "p1 = np.ones((4,2,), dtype = 'float64')\n",
    "print(p1)\n",
    "print('\\n')\n",
    "# ((numberOfMatrix, rows, columns))\n",
    "p2 = np.ones((4,2,2), dtype = 'int32')\n",
    "print(p2)\n",
    "print('\\n')\n",
    "p3 = np.ones((3,2,2), dtype = 'int32')\n",
    "print(p3)\n",
    "print('\\n')\n",
    "p4 = np.ones((5,3,4), dtype = 'int32')\n",
    "print(p4)"
   ]
  },
  {
   "cell_type": "code",
   "execution_count": 68,
   "id": "5c1f9cac",
   "metadata": {},
   "outputs": [
    {
     "name": "stdout",
     "output_type": "stream",
     "text": [
      "[[99. 99.]\n",
      " [99. 99.]]\n"
     ]
    }
   ],
   "source": [
    "# Any other number\n",
    "q = np.full((2,2), 99, dtype = 'float64')\n",
    "print(q)"
   ]
  },
  {
   "cell_type": "code",
   "execution_count": 69,
   "id": "b0333e5d",
   "metadata": {},
   "outputs": [
    {
     "name": "stdout",
     "output_type": "stream",
     "text": [
      "[[1 1 1 1 1]\n",
      " [1 1 1 1 1]\n",
      " [1 1 1 1 1]\n",
      " [1 1 1 1 1]\n",
      " [1 1 1 1 1]]\n"
     ]
    }
   ],
   "source": [
    "q1 = np.full((5,5), 1)\n",
    "print(q1)"
   ]
  },
  {
   "cell_type": "code",
   "execution_count": 70,
   "id": "5556b15d",
   "metadata": {},
   "outputs": [
    {
     "name": "stdout",
     "output_type": "stream",
     "text": [
      "[[[10 10]\n",
      "  [10 10]]\n",
      "\n",
      " [[10 10]\n",
      "  [10 10]]\n",
      "\n",
      " [[10 10]\n",
      "  [10 10]]\n",
      "\n",
      " [[10 10]\n",
      "  [10 10]]]\n"
     ]
    }
   ],
   "source": [
    "q2 = np.full((4,2,2), 10)\n",
    "print(q2)"
   ]
  },
  {
   "cell_type": "code",
   "execution_count": 71,
   "id": "e7c01b88",
   "metadata": {},
   "outputs": [
    {
     "name": "stdout",
     "output_type": "stream",
     "text": [
      "[[[55 55 55 55 55]\n",
      "  [55 55 55 55 55]\n",
      "  [55 55 55 55 55]\n",
      "  [55 55 55 55 55]\n",
      "  [55 55 55 55 55]]\n",
      "\n",
      " [[55 55 55 55 55]\n",
      "  [55 55 55 55 55]\n",
      "  [55 55 55 55 55]\n",
      "  [55 55 55 55 55]\n",
      "  [55 55 55 55 55]]\n",
      "\n",
      " [[55 55 55 55 55]\n",
      "  [55 55 55 55 55]\n",
      "  [55 55 55 55 55]\n",
      "  [55 55 55 55 55]\n",
      "  [55 55 55 55 55]]\n",
      "\n",
      " [[55 55 55 55 55]\n",
      "  [55 55 55 55 55]\n",
      "  [55 55 55 55 55]\n",
      "  [55 55 55 55 55]\n",
      "  [55 55 55 55 55]]\n",
      "\n",
      " [[55 55 55 55 55]\n",
      "  [55 55 55 55 55]\n",
      "  [55 55 55 55 55]\n",
      "  [55 55 55 55 55]\n",
      "  [55 55 55 55 55]]]\n"
     ]
    }
   ],
   "source": [
    "q3 = np.full((5,5,5), 55)\n",
    "print(q3)"
   ]
  },
  {
   "cell_type": "code",
   "execution_count": 72,
   "id": "23a9fab6",
   "metadata": {},
   "outputs": [
    {
     "name": "stdout",
     "output_type": "stream",
     "text": [
      "[[[4 4 4 4 4]\n",
      "  [4 4 4 4 4]\n",
      "  [4 4 4 4 4]\n",
      "  [4 4 4 4 4]\n",
      "  [4 4 4 4 4]]\n",
      "\n",
      " [[4 4 4 4 4]\n",
      "  [4 4 4 4 4]\n",
      "  [4 4 4 4 4]\n",
      "  [4 4 4 4 4]\n",
      "  [4 4 4 4 4]]\n",
      "\n",
      " [[4 4 4 4 4]\n",
      "  [4 4 4 4 4]\n",
      "  [4 4 4 4 4]\n",
      "  [4 4 4 4 4]\n",
      "  [4 4 4 4 4]]\n",
      "\n",
      " [[4 4 4 4 4]\n",
      "  [4 4 4 4 4]\n",
      "  [4 4 4 4 4]\n",
      "  [4 4 4 4 4]\n",
      "  [4 4 4 4 4]]\n",
      "\n",
      " [[4 4 4 4 4]\n",
      "  [4 4 4 4 4]\n",
      "  [4 4 4 4 4]\n",
      "  [4 4 4 4 4]\n",
      "  [4 4 4 4 4]]]\n"
     ]
    }
   ],
   "source": [
    "# Any other number (full_like)\n",
    "q4 = np.full_like(q3, 4)\n",
    "print(q4)"
   ]
  },
  {
   "cell_type": "code",
   "execution_count": 84,
   "id": "dab1b7f1",
   "metadata": {},
   "outputs": [
    {
     "name": "stdout",
     "output_type": "stream",
     "text": [
      "[[[100 100 100 100 100]\n",
      "  [100 100 100 100 100]\n",
      "  [100 100 100 100 100]\n",
      "  [100 100 100 100 100]\n",
      "  [100 100 100 100 100]]\n",
      "\n",
      " [[100 100 100 100 100]\n",
      "  [100 100 100 100 100]\n",
      "  [100 100 100 100 100]\n",
      "  [100 100 100 100 100]\n",
      "  [100 100 100 100 100]]\n",
      "\n",
      " [[100 100 100 100 100]\n",
      "  [100 100 100 100 100]\n",
      "  [100 100 100 100 100]\n",
      "  [100 100 100 100 100]\n",
      "  [100 100 100 100 100]]\n",
      "\n",
      " [[100 100 100 100 100]\n",
      "  [100 100 100 100 100]\n",
      "  [100 100 100 100 100]\n",
      "  [100 100 100 100 100]\n",
      "  [100 100 100 100 100]]\n",
      "\n",
      " [[100 100 100 100 100]\n",
      "  [100 100 100 100 100]\n",
      "  [100 100 100 100 100]\n",
      "  [100 100 100 100 100]\n",
      "  [100 100 100 100 100]]]\n"
     ]
    }
   ],
   "source": [
    "q5 = np.full_like(q4, 100)\n",
    "print(q5)"
   ]
  },
  {
   "cell_type": "code",
   "execution_count": 85,
   "id": "b6326d5a",
   "metadata": {},
   "outputs": [
    {
     "data": {
      "text/plain": [
       "array([[0.18030764, 0.05184703],\n",
       "       [0.99551855, 0.93083061],\n",
       "       [0.6431722 , 0.0400725 ],\n",
       "       [0.58626664, 0.58122025]])"
      ]
     },
     "execution_count": 85,
     "metadata": {},
     "output_type": "execute_result"
    }
   ],
   "source": [
    "# Random decimal numbers\n",
    "np.random.rand(4,2)"
   ]
  },
  {
   "cell_type": "code",
   "execution_count": 86,
   "id": "d3140347",
   "metadata": {},
   "outputs": [
    {
     "data": {
      "text/plain": [
       "array([[[0.41829814, 0.29218202, 0.09956346],\n",
       "        [0.14588107, 0.68459512, 0.31934183],\n",
       "        [0.05133739, 0.66461392, 0.19383186]],\n",
       "\n",
       "       [[0.62896985, 0.95132673, 0.01006384],\n",
       "        [0.31120097, 0.65396819, 0.23274876],\n",
       "        [0.20252843, 0.47460171, 0.24963058]],\n",
       "\n",
       "       [[0.83300194, 0.54633672, 0.46748155],\n",
       "        [0.49146553, 0.86493788, 0.08414533],\n",
       "        [0.54000652, 0.73079404, 0.67844316]],\n",
       "\n",
       "       [[0.32815378, 0.15081336, 0.97879904],\n",
       "        [0.31097565, 0.37412642, 0.48178871],\n",
       "        [0.23339592, 0.96780354, 0.0871633 ]]])"
      ]
     },
     "execution_count": 86,
     "metadata": {},
     "output_type": "execute_result"
    }
   ],
   "source": [
    "np.random.rand(4,3,3)"
   ]
  },
  {
   "cell_type": "code",
   "execution_count": 87,
   "id": "cf7fa582",
   "metadata": {},
   "outputs": [
    {
     "name": "stdout",
     "output_type": "stream",
     "text": [
      "[[[0.96857288 0.08240505 0.8830499 ]\n",
      "  [0.45042209 0.92138356 0.03427103]\n",
      "  [0.25787004 0.14761775 0.52799416]]\n",
      "\n",
      " [[0.41807965 0.82475322 0.27052942]\n",
      "  [0.36529566 0.43283563 0.24579435]\n",
      "  [0.4858919  0.89184338 0.8656526 ]]\n",
      "\n",
      " [[0.20039122 0.18193197 0.93888094]\n",
      "  [0.83232165 0.26011844 0.89006246]\n",
      "  [0.01760196 0.86319187 0.10692032]]\n",
      "\n",
      " [[0.54120507 0.06367227 0.5644469 ]\n",
      "  [0.12373942 0.8165754  0.5096614 ]\n",
      "  [0.69863934 0.11088823 0.15011714]]\n",
      "\n",
      " [[0.80083665 0.54663456 0.05246119]\n",
      "  [0.04816692 0.93416384 0.10366455]\n",
      "  [0.28139843 0.50012537 0.72490932]]]\n"
     ]
    }
   ],
   "source": [
    "r = np.random.rand(5,3,3)\n",
    "print(r)"
   ]
  },
  {
   "cell_type": "code",
   "execution_count": 90,
   "id": "f88a0ad1",
   "metadata": {},
   "outputs": [
    {
     "name": "stdout",
     "output_type": "stream",
     "text": [
      "[[[0.03378455 0.48830259 0.67023137 0.97215696 0.59465166]\n",
      "  [0.68941036 0.78710466 0.37571666 0.6472553  0.05901016]\n",
      "  [0.8718246  0.08894392 0.35349387 0.99927461 0.68359524]\n",
      "  [0.95906114 0.69767265 0.85014703 0.34884069 0.17661232]\n",
      "  [0.59754792 0.42190209 0.72345062 0.16339748 0.55410294]]\n",
      "\n",
      " [[0.45010163 0.04603336 0.73397926 0.00221435 0.45576447]\n",
      "  [0.68177646 0.02182888 0.29734341 0.34107722 0.48798802]\n",
      "  [0.45920618 0.06749613 0.35996747 0.6331036  0.72055075]\n",
      "  [0.21433785 0.73118101 0.87967812 0.74543636 0.76915627]\n",
      "  [0.95252082 0.17596246 0.80799732 0.77260748 0.1691875 ]]\n",
      "\n",
      " [[0.97372139 0.40228765 0.69637985 0.04601546 0.42776801]\n",
      "  [0.53058951 0.44680127 0.57509566 0.63789277 0.20191102]\n",
      "  [0.98268578 0.83287316 0.94327831 0.83010365 0.84713093]\n",
      "  [0.69409884 0.33714309 0.73516316 0.20655297 0.87370694]\n",
      "  [0.13687448 0.52893781 0.19550254 0.63388462 0.76190777]]\n",
      "\n",
      " [[0.60700377 0.0761232  0.12486604 0.69823712 0.94403839]\n",
      "  [0.69086351 0.08914882 0.60520463 0.19302257 0.02790028]\n",
      "  [0.0040088  0.60240123 0.12653536 0.05333074 0.42351966]\n",
      "  [0.66042855 0.58574986 0.07368959 0.61536695 0.34312516]\n",
      "  [0.63960778 0.96334069 0.45013712 0.25494849 0.07326723]]\n",
      "\n",
      " [[0.07172495 0.0699606  0.68482647 0.70957411 0.78953499]\n",
      "  [0.86114904 0.43035048 0.8456468  0.16088652 0.48568945]\n",
      "  [0.29951593 0.91119191 0.97922679 0.06699702 0.22473576]\n",
      "  [0.02059058 0.31639592 0.01457483 0.23904533 0.44025921]\n",
      "  [0.16521536 0.71548527 0.11172442 0.27603275 0.12623105]]]\n"
     ]
    }
   ],
   "source": [
    "r1 = np.random.random_sample(q5.shape)\n",
    "print(r1)"
   ]
  },
  {
   "cell_type": "code",
   "execution_count": 91,
   "id": "8ba15cb2",
   "metadata": {},
   "outputs": [
    {
     "name": "stdout",
     "output_type": "stream",
     "text": [
      "[[[0.79929372 0.92374761 0.90813189 0.75036234 0.57042164]\n",
      "  [0.88822194 0.41802957 0.53665195 0.80666449 0.94724729]\n",
      "  [0.49828109 0.49511062 0.76649101 0.45983849 0.50515564]\n",
      "  [0.34749789 0.68995839 0.87074721 0.18259192 0.27270885]\n",
      "  [0.697783   0.25989602 0.3449526  0.18159593 0.42423679]]\n",
      "\n",
      " [[0.6121413  0.8997444  0.92894384 0.44544652 0.91342931]\n",
      "  [0.23931763 0.67576885 0.52214591 0.30427231 0.64279906]\n",
      "  [0.39437926 0.87497686 0.22855472 0.96697617 0.22169935]\n",
      "  [0.3668818  0.40529523 0.3820227  0.31625209 0.90092232]\n",
      "  [0.90493971 0.52163945 0.34495201 0.90811868 0.44053247]]\n",
      "\n",
      " [[0.16062741 0.83073194 0.99042131 0.55787338 0.08988636]\n",
      "  [0.96581456 0.68818896 0.96825603 0.37909353 0.19368045]\n",
      "  [0.25217342 0.31077323 0.17627463 0.69357194 0.90162218]\n",
      "  [0.74016677 0.09368966 0.83054439 0.81622993 0.02405392]\n",
      "  [0.53754316 0.63924188 0.6496366  0.50360537 0.36890823]]\n",
      "\n",
      " [[0.93722771 0.05548851 0.2460787  0.15494581 0.59073425]\n",
      "  [0.38587737 0.76465179 0.83379057 0.93649491 0.65405635]\n",
      "  [0.03661491 0.33573469 0.54173542 0.33042973 0.08784861]\n",
      "  [0.19205124 0.64455245 0.25099574 0.14701229 0.59672908]\n",
      "  [0.38424836 0.87142962 0.96379424 0.38915057 0.99607273]]\n",
      "\n",
      " [[0.3327454  0.88943453 0.64369252 0.60408944 0.56506493]\n",
      "  [0.20478916 0.36221822 0.51708355 0.37620688 0.33974207]\n",
      "  [0.89223326 0.33051452 0.93685969 0.11459409 0.83654338]\n",
      "  [0.1230775  0.74462083 0.11738473 0.60574319 0.00376021]\n",
      "  [0.76500716 0.75012719 0.71845924 0.27714133 0.50678766]]]\n"
     ]
    }
   ],
   "source": [
    "r2 = np.random.random_sample(q4.shape)\n",
    "print(r2)"
   ]
  },
  {
   "cell_type": "code",
   "execution_count": 96,
   "id": "4b394ba1",
   "metadata": {},
   "outputs": [
    {
     "name": "stdout",
     "output_type": "stream",
     "text": [
      "[[5 4 4]\n",
      " [0 5 0]\n",
      " [0 2 4]]\n"
     ]
    }
   ],
   "source": [
    "# Random Integer Value\n",
    "x = np.random.randint(7, size = (3,3))   # 7 == (0,7) means that random from 0 to 6\n",
    "print(x)"
   ]
  },
  {
   "cell_type": "code",
   "execution_count": 99,
   "id": "86067a0d",
   "metadata": {},
   "outputs": [
    {
     "name": "stdout",
     "output_type": "stream",
     "text": [
      "[[2 2 3 3]\n",
      " [6 3 1 6]\n",
      " [1 3 6 4]\n",
      " [3 3 3 5]]\n",
      "\n",
      "\n",
      "[[6 4 5 5 4]\n",
      " [5 5 4 5 4]\n",
      " [6 3 5 5 5]\n",
      " [7 5 7 4 5]\n",
      " [4 7 4 5 7]]\n"
     ]
    }
   ],
   "source": [
    "x1 = np.random.randint(1,7, size = (4,4))\n",
    "print(x1)\n",
    "print('\\n')\n",
    "x2 = np.random.randint(3,8, size = (5,5))\n",
    "print(x2)"
   ]
  },
  {
   "cell_type": "code",
   "execution_count": 100,
   "id": "53d22b56",
   "metadata": {},
   "outputs": [
    {
     "name": "stdout",
     "output_type": "stream",
     "text": [
      "[[1. 0. 0. 0. 0. 0. 0. 0. 0. 0.]\n",
      " [0. 1. 0. 0. 0. 0. 0. 0. 0. 0.]\n",
      " [0. 0. 1. 0. 0. 0. 0. 0. 0. 0.]\n",
      " [0. 0. 0. 1. 0. 0. 0. 0. 0. 0.]\n",
      " [0. 0. 0. 0. 1. 0. 0. 0. 0. 0.]\n",
      " [0. 0. 0. 0. 0. 1. 0. 0. 0. 0.]\n",
      " [0. 0. 0. 0. 0. 0. 1. 0. 0. 0.]\n",
      " [0. 0. 0. 0. 0. 0. 0. 1. 0. 0.]\n",
      " [0. 0. 0. 0. 0. 0. 0. 0. 1. 0.]\n",
      " [0. 0. 0. 0. 0. 0. 0. 0. 0. 1.]]\n"
     ]
    }
   ],
   "source": [
    "# Identity Matrix\n",
    "y = np.identity(10)     # ម៉ាទ្រីសឯកតា\n",
    "print(y)"
   ]
  },
  {
   "cell_type": "code",
   "execution_count": 101,
   "id": "1ff8a50a",
   "metadata": {},
   "outputs": [
    {
     "name": "stdout",
     "output_type": "stream",
     "text": [
      "[[1. 0. 0.]\n",
      " [0. 1. 0.]\n",
      " [0. 0. 1.]]\n"
     ]
    }
   ],
   "source": [
    "y = np.identity(3)\n",
    "print(y)"
   ]
  },
  {
   "cell_type": "code",
   "execution_count": 109,
   "id": "9fc00615",
   "metadata": {},
   "outputs": [
    {
     "name": "stdout",
     "output_type": "stream",
     "text": [
      "[1 1 1 2 2 2 3 3 3]\n",
      "1\n",
      "\n",
      "\n",
      "[[4 5 6]\n",
      " [4 5 6]\n",
      " [7 8 9]\n",
      " [7 8 9]]\n",
      "2\n",
      "\n",
      "\n",
      "[[4 4 5 5 6 6]\n",
      " [7 7 8 8 9 9]]\n",
      "2\n"
     ]
    }
   ],
   "source": [
    "arr = np.array([1,2,3])\n",
    "r1 = np.repeat(arr, 3)\n",
    "print(r1)\n",
    "print(r1.ndim)\n",
    "print('\\n')\n",
    "arr = np.array([[4,5,6], [7,8,9]])\n",
    "r2 = np.repeat(arr, 2, axis = 0)\n",
    "print(r2)\n",
    "print(r2.ndim)\n",
    "print('\\n')\n",
    "arr = np.array([[4,5,6], [7,8,9]])\n",
    "r2 = np.repeat(arr, 2, axis = 1)\n",
    "print(r2)\n",
    "print(r2.ndim)"
   ]
  },
  {
   "cell_type": "code",
   "execution_count": 123,
   "id": "48df297f",
   "metadata": {},
   "outputs": [
    {
     "name": "stdout",
     "output_type": "stream",
     "text": [
      "[[1. 1. 1. 1. 1.]\n",
      " [1. 1. 1. 1. 1.]\n",
      " [1. 1. 1. 1. 1.]\n",
      " [1. 1. 1. 1. 1.]\n",
      " [1. 1. 1. 1. 1.]]\n",
      "\n",
      "\n",
      "[[0. 0. 0.]\n",
      " [0. 9. 0.]\n",
      " [0. 0. 0.]]\n",
      "\n",
      "\n",
      "[[1. 1. 1. 1. 1.]\n",
      " [1. 0. 0. 0. 1.]\n",
      " [1. 0. 9. 0. 1.]\n",
      " [1. 0. 0. 0. 1.]\n",
      " [1. 1. 1. 1. 1.]]\n"
     ]
    }
   ],
   "source": [
    "output = np.ones((5,5))\n",
    "print(output)\n",
    "print('\\n')\n",
    "z = np.zeros((3,3))\n",
    "z[1,1] = 9\n",
    "print(z)\n",
    "print('\\n')\n",
    "output[1:4,1:4] = z\n",
    "print(output)"
   ]
  },
  {
   "cell_type": "code",
   "execution_count": 120,
   "id": "8962d80b",
   "metadata": {},
   "outputs": [
    {
     "name": "stdout",
     "output_type": "stream",
     "text": [
      "[[1. 1. 1. 1. 1.]\n",
      " [1. 5. 5. 5. 1.]\n",
      " [1. 5. 5. 5. 1.]\n",
      " [1. 5. 5. 5. 1.]\n",
      " [1. 1. 1. 1. 1.]]\n"
     ]
    }
   ],
   "source": [
    "n = np.ones((5,5))\n",
    "n[1:4, 1:4] = 5\n",
    "print(n)"
   ]
  },
  {
   "cell_type": "code",
   "execution_count": 121,
   "id": "fc4aee90",
   "metadata": {},
   "outputs": [
    {
     "name": "stdout",
     "output_type": "stream",
     "text": [
      "[[0. 0. 0. 0.]\n",
      " [0. 9. 9. 0.]\n",
      " [0. 9. 9. 0.]\n",
      " [0. 0. 0. 0.]]\n"
     ]
    }
   ],
   "source": [
    "x = np.zeros((4,4))\n",
    "x[1:3, 1:3] = 9\n",
    "print(x)"
   ]
  },
  {
   "cell_type": "code",
   "execution_count": 137,
   "id": "c283a6b7",
   "metadata": {},
   "outputs": [
    {
     "name": "stdout",
     "output_type": "stream",
     "text": [
      "[[0. 0. 0. 0. 0. 0.]\n",
      " [0. 0. 0. 0. 0. 0.]\n",
      " [0. 0. 0. 0. 0. 0.]\n",
      " [0. 0. 0. 0. 0. 0.]\n",
      " [0. 0. 0. 0. 0. 0.]\n",
      " [0. 0. 0. 0. 0. 0.]]\n",
      "[[1. 1. 1. 1.]\n",
      " [1. 2. 2. 1.]\n",
      " [1. 2. 2. 1.]\n",
      " [1. 1. 1. 1.]]\n",
      "[[0. 0. 0. 0. 0. 0.]\n",
      " [0. 1. 1. 1. 1. 0.]\n",
      " [0. 1. 2. 2. 1. 0.]\n",
      " [0. 1. 2. 2. 1. 0.]\n",
      " [0. 1. 1. 1. 1. 0.]\n",
      " [0. 0. 0. 0. 0. 0.]]\n"
     ]
    }
   ],
   "source": [
    "y = np.zeros((6,6))\n",
    "print(y)\n",
    "\n",
    "x = np.ones((4,4))\n",
    "x[1:3, 1:3] = 2\n",
    "print(x)\n",
    "\n",
    "y[1:5, 1:5] = x\n",
    "print(y)"
   ]
  },
  {
   "cell_type": "code",
   "execution_count": 172,
   "id": "07f96f53",
   "metadata": {},
   "outputs": [
    {
     "name": "stdout",
     "output_type": "stream",
     "text": [
      "[[0. 0. 0. 0. 0. 0. 0.]\n",
      " [0. 0. 0. 0. 0. 0. 0.]\n",
      " [0. 0. 0. 0. 0. 0. 0.]\n",
      " [0. 0. 0. 0. 0. 0. 0.]\n",
      " [0. 0. 0. 0. 0. 0. 0.]\n",
      " [0. 0. 0. 0. 0. 0. 0.]\n",
      " [0. 0. 0. 0. 0. 0. 0.]]\n",
      "[[1. 1. 1. 1. 1.]\n",
      " [1. 2. 2. 2. 1.]\n",
      " [1. 2. 2. 2. 1.]\n",
      " [1. 2. 2. 2. 1.]\n",
      " [1. 1. 1. 1. 1.]]\n",
      "[[1. 1. 1. 1. 1.]\n",
      " [1. 2. 2. 2. 1.]\n",
      " [1. 2. 3. 2. 1.]\n",
      " [1. 2. 2. 2. 1.]\n",
      " [1. 1. 1. 1. 1.]]\n",
      "[[0. 0. 0. 0. 0. 0. 0.]\n",
      " [0. 1. 1. 1. 1. 1. 0.]\n",
      " [0. 1. 2. 2. 2. 1. 0.]\n",
      " [0. 1. 2. 3. 2. 1. 0.]\n",
      " [0. 1. 2. 2. 2. 1. 0.]\n",
      " [0. 1. 1. 1. 1. 1. 0.]\n",
      " [0. 0. 0. 0. 0. 0. 0.]]\n"
     ]
    }
   ],
   "source": [
    "x = np.zeros((7,7))\n",
    "print(x)\n",
    "\n",
    "y = np.ones((5,5))\n",
    "y[1:4, 1:4] = 2\n",
    "print(y)\n",
    "\n",
    "y[2][2] = 3\n",
    "print(y)\n",
    "\n",
    "x[1:6, 1:6] = y\n",
    "print(x)"
   ]
  },
  {
   "cell_type": "markdown",
   "id": "77156d98",
   "metadata": {},
   "source": [
    "# Be careful when copying arrays !!!"
   ]
  },
  {
   "cell_type": "code",
   "execution_count": 178,
   "id": "e0587bb8",
   "metadata": {},
   "outputs": [
    {
     "name": "stdout",
     "output_type": "stream",
     "text": [
      "[1 2 3]\n",
      "[100   2   3]\n"
     ]
    }
   ],
   "source": [
    "a = np.array([1,2,3])\n",
    "b = a.copy()\n",
    "b[0] = 100\n",
    "\n",
    "print(a)\n",
    "print(b)"
   ]
  },
  {
   "cell_type": "markdown",
   "id": "dadab1cc",
   "metadata": {},
   "source": [
    "# Mathematics"
   ]
  },
  {
   "cell_type": "code",
   "execution_count": 179,
   "id": "04b9ce9d",
   "metadata": {},
   "outputs": [
    {
     "name": "stdout",
     "output_type": "stream",
     "text": [
      "[1 2 3 4 5]\n"
     ]
    }
   ],
   "source": [
    "a = np.array([1,2,3,4,5])\n",
    "print(a)"
   ]
  },
  {
   "cell_type": "code",
   "execution_count": 182,
   "id": "68277a0e",
   "metadata": {},
   "outputs": [
    {
     "data": {
      "text/plain": [
       "array([3, 4, 5, 6, 7])"
      ]
     },
     "execution_count": 182,
     "metadata": {},
     "output_type": "execute_result"
    }
   ],
   "source": [
    "a + 2"
   ]
  },
  {
   "cell_type": "code",
   "execution_count": 183,
   "id": "6cda67b1",
   "metadata": {},
   "outputs": [
    {
     "data": {
      "text/plain": [
       "array([-1,  0,  1,  2,  3])"
      ]
     },
     "execution_count": 183,
     "metadata": {},
     "output_type": "execute_result"
    }
   ],
   "source": [
    "a - 2"
   ]
  },
  {
   "cell_type": "code",
   "execution_count": 184,
   "id": "effa398b",
   "metadata": {},
   "outputs": [
    {
     "data": {
      "text/plain": [
       "array([ 2,  4,  6,  8, 10])"
      ]
     },
     "execution_count": 184,
     "metadata": {},
     "output_type": "execute_result"
    }
   ],
   "source": [
    "a * 2"
   ]
  },
  {
   "cell_type": "code",
   "execution_count": 185,
   "id": "bc2a30fe",
   "metadata": {},
   "outputs": [
    {
     "data": {
      "text/plain": [
       "array([0.5, 1. , 1.5, 2. , 2.5])"
      ]
     },
     "execution_count": 185,
     "metadata": {},
     "output_type": "execute_result"
    }
   ],
   "source": [
    "a / 2"
   ]
  },
  {
   "cell_type": "code",
   "execution_count": 186,
   "id": "3fdbf722",
   "metadata": {},
   "outputs": [
    {
     "data": {
      "text/plain": [
       "array([ 1,  4,  9, 16, 25])"
      ]
     },
     "execution_count": 186,
     "metadata": {},
     "output_type": "execute_result"
    }
   ],
   "source": [
    "a ** 2"
   ]
  },
  {
   "cell_type": "code",
   "execution_count": 188,
   "id": "8268c8ad",
   "metadata": {},
   "outputs": [
    {
     "data": {
      "text/plain": [
       "array([2, 2, 4, 4, 6])"
      ]
     },
     "execution_count": 188,
     "metadata": {},
     "output_type": "execute_result"
    }
   ],
   "source": [
    "b = np.array([1,0,1,0,1])\n",
    "a + b"
   ]
  },
  {
   "cell_type": "code",
   "execution_count": 189,
   "id": "a49ecf09",
   "metadata": {},
   "outputs": [
    {
     "data": {
      "text/plain": [
       "array([ 1,  4,  9, 16, 25])"
      ]
     },
     "execution_count": 189,
     "metadata": {},
     "output_type": "execute_result"
    }
   ],
   "source": [
    "a ** 2"
   ]
  },
  {
   "cell_type": "code",
   "execution_count": 191,
   "id": "95f63c67",
   "metadata": {},
   "outputs": [
    {
     "name": "stdout",
     "output_type": "stream",
     "text": [
      "[ 0.84147098  0.90929743  0.14112001 -0.7568025  -0.95892427]\n"
     ]
    }
   ],
   "source": [
    "# Take the sin\n",
    "z = np.sin(a)\n",
    "print(z)"
   ]
  },
  {
   "cell_type": "code",
   "execution_count": 192,
   "id": "440bdb4c",
   "metadata": {},
   "outputs": [
    {
     "name": "stdout",
     "output_type": "stream",
     "text": [
      "[ 0.54030231 -0.41614684 -0.9899925  -0.65364362  0.28366219]\n"
     ]
    }
   ],
   "source": [
    "z = np.cos(a)\n",
    "print(z)"
   ]
  },
  {
   "cell_type": "markdown",
   "id": "9c004365",
   "metadata": {},
   "source": [
    "# Linear Algebra"
   ]
  },
  {
   "cell_type": "code",
   "execution_count": 6,
   "id": "b1448351",
   "metadata": {},
   "outputs": [
    {
     "name": "stdout",
     "output_type": "stream",
     "text": [
      "[[1. 1. 1. 1.]\n",
      " [1. 1. 1. 1.]]\n",
      "[[2 2]\n",
      " [2 2]\n",
      " [2 2]\n",
      " [2 2]]\n"
     ]
    },
    {
     "data": {
      "text/plain": [
       "array([[8., 8.],\n",
       "       [8., 8.]])"
      ]
     },
     "execution_count": 6,
     "metadata": {},
     "output_type": "execute_result"
    }
   ],
   "source": [
    "a = np.ones((2,4))\n",
    "print(a)\n",
    "\n",
    "b = np.full((4,2), 2)\n",
    "print(b)\n",
    "\n",
    "np.matmul(a,b)"
   ]
  },
  {
   "cell_type": "code",
   "execution_count": 7,
   "id": "6738cc87",
   "metadata": {},
   "outputs": [
    {
     "name": "stdout",
     "output_type": "stream",
     "text": [
      "[[1. 0. 0.]\n",
      " [0. 1. 0.]\n",
      " [0. 0. 1.]]\n",
      "1.0\n"
     ]
    }
   ],
   "source": [
    "# Find the determinant\n",
    "c = np.identity(3)\n",
    "print(c)\n",
    "d = np.linalg.det(c)     # Find determinant\n",
    "print(d)"
   ]
  },
  {
   "cell_type": "code",
   "execution_count": 12,
   "id": "2c7af205",
   "metadata": {},
   "outputs": [
    {
     "data": {
      "text/plain": [
       "array([[1., 0., 0., 0., 0., 0.],\n",
       "       [0., 1., 0., 0., 0., 0.],\n",
       "       [0., 0., 1., 0., 0., 0.],\n",
       "       [0., 0., 0., 1., 0., 0.],\n",
       "       [0., 0., 0., 0., 1., 0.],\n",
       "       [0., 0., 0., 0., 0., 1.]])"
      ]
     },
     "execution_count": 12,
     "metadata": {},
     "output_type": "execute_result"
    }
   ],
   "source": [
    "d = np.identity(6)\n",
    "d"
   ]
  },
  {
   "cell_type": "code",
   "execution_count": 13,
   "id": "05574671",
   "metadata": {},
   "outputs": [
    {
     "name": "stdout",
     "output_type": "stream",
     "text": [
      "1.0\n"
     ]
    }
   ],
   "source": [
    "e = np.linalg.det(d)\n",
    "print(e)"
   ]
  },
  {
   "cell_type": "code",
   "execution_count": 22,
   "id": "907147d2",
   "metadata": {},
   "outputs": [
    {
     "name": "stdout",
     "output_type": "stream",
     "text": [
      "[[9. 0. 0. 0. 0.]\n",
      " [0. 9. 0. 0. 0.]\n",
      " [0. 0. 9. 0. 0.]\n",
      " [0. 0. 0. 9. 0.]\n",
      " [0. 0. 0. 0. 9.]]\n",
      "\n",
      "\n",
      "59049.00000000008\n"
     ]
    }
   ],
   "source": [
    "f = np.identity(5)\n",
    "g = np.full((5,5), 9)\n",
    "print(f * g)\n",
    "print('\\n')\n",
    "e = np.linalg.det(f * g)     # determinant of matrix (f * g)\n",
    "print(e)"
   ]
  },
  {
   "cell_type": "markdown",
   "id": "dbdb68ac",
   "metadata": {},
   "source": [
    "# Statistics"
   ]
  },
  {
   "cell_type": "code",
   "execution_count": 23,
   "id": "38a1d75d",
   "metadata": {},
   "outputs": [
    {
     "data": {
      "text/plain": [
       "array([[1, 2, 3],\n",
       "       [4, 5, 6]])"
      ]
     },
     "execution_count": 23,
     "metadata": {},
     "output_type": "execute_result"
    }
   ],
   "source": [
    "stats = np.array([[1,2,3], [4,5,6]])\n",
    "stats"
   ]
  },
  {
   "cell_type": "code",
   "execution_count": 24,
   "id": "f59a8e4b",
   "metadata": {},
   "outputs": [
    {
     "data": {
      "text/plain": [
       "1"
      ]
     },
     "execution_count": 24,
     "metadata": {},
     "output_type": "execute_result"
    }
   ],
   "source": [
    "np.min(stats)"
   ]
  },
  {
   "cell_type": "code",
   "execution_count": 25,
   "id": "d33c1781",
   "metadata": {},
   "outputs": [
    {
     "data": {
      "text/plain": [
       "6"
      ]
     },
     "execution_count": 25,
     "metadata": {},
     "output_type": "execute_result"
    }
   ],
   "source": [
    "np.max(stats)"
   ]
  },
  {
   "cell_type": "code",
   "execution_count": 26,
   "id": "7db9c5bc",
   "metadata": {},
   "outputs": [
    {
     "data": {
      "text/plain": [
       "array([4, 5, 6])"
      ]
     },
     "execution_count": 26,
     "metadata": {},
     "output_type": "execute_result"
    }
   ],
   "source": [
    "np.max(stats, axis = 0)"
   ]
  },
  {
   "cell_type": "code",
   "execution_count": 27,
   "id": "1ef7bfe0",
   "metadata": {},
   "outputs": [
    {
     "data": {
      "text/plain": [
       "array([1, 4])"
      ]
     },
     "execution_count": 27,
     "metadata": {},
     "output_type": "execute_result"
    }
   ],
   "source": [
    "np.min(stats, axis = 1)"
   ]
  },
  {
   "cell_type": "code",
   "execution_count": 28,
   "id": "4dfb924d",
   "metadata": {},
   "outputs": [
    {
     "data": {
      "text/plain": [
       "array([1, 2, 3])"
      ]
     },
     "execution_count": 28,
     "metadata": {},
     "output_type": "execute_result"
    }
   ],
   "source": [
    "np.min(stats, axis = 0)"
   ]
  },
  {
   "cell_type": "code",
   "execution_count": 29,
   "id": "e2d5bc66",
   "metadata": {},
   "outputs": [
    {
     "data": {
      "text/plain": [
       "array([3, 6])"
      ]
     },
     "execution_count": 29,
     "metadata": {},
     "output_type": "execute_result"
    }
   ],
   "source": [
    "np.max(stats, axis = 1)"
   ]
  },
  {
   "cell_type": "code",
   "execution_count": 30,
   "id": "22db0293",
   "metadata": {},
   "outputs": [
    {
     "data": {
      "text/plain": [
       "array([2., 5.])"
      ]
     },
     "execution_count": 30,
     "metadata": {},
     "output_type": "execute_result"
    }
   ],
   "source": [
    "np.median(stats, axis = 1)"
   ]
  },
  {
   "cell_type": "code",
   "execution_count": 32,
   "id": "9111f764",
   "metadata": {},
   "outputs": [
    {
     "data": {
      "text/plain": [
       "3.5"
      ]
     },
     "execution_count": 32,
     "metadata": {},
     "output_type": "execute_result"
    }
   ],
   "source": [
    "np.mean(stats)"
   ]
  },
  {
   "cell_type": "code",
   "execution_count": 33,
   "id": "aa1b36b8",
   "metadata": {},
   "outputs": [
    {
     "data": {
      "text/plain": [
       "21"
      ]
     },
     "execution_count": 33,
     "metadata": {},
     "output_type": "execute_result"
    }
   ],
   "source": [
    "np.sum(stats)"
   ]
  },
  {
   "cell_type": "code",
   "execution_count": 34,
   "id": "104c56c1",
   "metadata": {},
   "outputs": [
    {
     "data": {
      "text/plain": [
       "array([5, 7, 9])"
      ]
     },
     "execution_count": 34,
     "metadata": {},
     "output_type": "execute_result"
    }
   ],
   "source": [
    "np.sum(stats, axis = 0)"
   ]
  },
  {
   "cell_type": "markdown",
   "id": "b48dcf22",
   "metadata": {},
   "source": [
    "# Reorganizing Arrays"
   ]
  },
  {
   "cell_type": "code",
   "execution_count": 46,
   "id": "b0c9aed0",
   "metadata": {},
   "outputs": [
    {
     "name": "stdout",
     "output_type": "stream",
     "text": [
      "[[1 2 3 4]\n",
      " [5 6 7 8]]\n",
      "[[1]\n",
      " [2]\n",
      " [3]\n",
      " [4]\n",
      " [5]\n",
      " [6]\n",
      " [7]\n",
      " [8]]\n",
      "[[1 2]\n",
      " [3 4]\n",
      " [5 6]\n",
      " [7 8]]\n",
      "[[[1 2]\n",
      "  [3 4]]\n",
      "\n",
      " [[5 6]\n",
      "  [7 8]]]\n",
      "3\n",
      "[[[1 2 3 4 5 6 7 8]]]\n",
      "3\n"
     ]
    },
    {
     "ename": "ValueError",
     "evalue": "cannot reshape array of size 8 into shape (2,2,2,2)",
     "output_type": "error",
     "traceback": [
      "\u001b[0;31m---------------------------------------------------------------------------\u001b[0m",
      "\u001b[0;31mValueError\u001b[0m                                Traceback (most recent call last)",
      "\u001b[0;32m/var/folders/q8/hh28k3x136l2jzb52rdfpgph0000gn/T/ipykernel_3212/3908214962.py\u001b[0m in \u001b[0;36m<module>\u001b[0;34m\u001b[0m\n\u001b[1;32m     12\u001b[0m \u001b[0mprint\u001b[0m\u001b[0;34m(\u001b[0m\u001b[0mafter\u001b[0m\u001b[0;34m)\u001b[0m\u001b[0;34m\u001b[0m\u001b[0;34m\u001b[0m\u001b[0m\n\u001b[1;32m     13\u001b[0m \u001b[0mprint\u001b[0m\u001b[0;34m(\u001b[0m\u001b[0mafter\u001b[0m\u001b[0;34m.\u001b[0m\u001b[0mndim\u001b[0m\u001b[0;34m)\u001b[0m\u001b[0;34m\u001b[0m\u001b[0;34m\u001b[0m\u001b[0m\n\u001b[0;32m---> 14\u001b[0;31m \u001b[0mafter\u001b[0m \u001b[0;34m=\u001b[0m \u001b[0mbefore\u001b[0m\u001b[0;34m.\u001b[0m\u001b[0mreshape\u001b[0m\u001b[0;34m(\u001b[0m\u001b[0;34m(\u001b[0m\u001b[0;36m2\u001b[0m\u001b[0;34m,\u001b[0m\u001b[0;36m2\u001b[0m\u001b[0;34m,\u001b[0m\u001b[0;36m2\u001b[0m\u001b[0;34m,\u001b[0m\u001b[0;36m2\u001b[0m\u001b[0;34m)\u001b[0m\u001b[0;34m)\u001b[0m\u001b[0;34m\u001b[0m\u001b[0;34m\u001b[0m\u001b[0m\n\u001b[0m\u001b[1;32m     15\u001b[0m \u001b[0mprint\u001b[0m\u001b[0;34m(\u001b[0m\u001b[0mafter\u001b[0m\u001b[0;34m)\u001b[0m\u001b[0;34m\u001b[0m\u001b[0;34m\u001b[0m\u001b[0m\n",
      "\u001b[0;31mValueError\u001b[0m: cannot reshape array of size 8 into shape (2,2,2,2)"
     ]
    }
   ],
   "source": [
    "before = np.array([[1,2,3,4], [5,6,7,8]])\n",
    "print(before)\n",
    "\n",
    "after = before.reshape((8,1))\n",
    "print(after)\n",
    "after = before.reshape((4,2))\n",
    "print(after)\n",
    "after = before.reshape((2,2,2))\n",
    "print(after)\n",
    "print(after.ndim)\n",
    "after = before.reshape((1,1,8))\n",
    "print(after)\n",
    "print(after.ndim)"
   ]
  },
  {
   "cell_type": "code",
   "execution_count": null,
   "id": "f5e17281",
   "metadata": {},
   "outputs": [],
   "source": []
  }
 ],
 "metadata": {
  "kernelspec": {
   "display_name": "Python 3 (ipykernel)",
   "language": "python",
   "name": "python3"
  },
  "language_info": {
   "codemirror_mode": {
    "name": "ipython",
    "version": 3
   },
   "file_extension": ".py",
   "mimetype": "text/x-python",
   "name": "python",
   "nbconvert_exporter": "python",
   "pygments_lexer": "ipython3",
   "version": "3.9.7"
  }
 },
 "nbformat": 4,
 "nbformat_minor": 5
}
